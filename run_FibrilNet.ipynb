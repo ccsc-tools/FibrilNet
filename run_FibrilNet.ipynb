{
 "cells": [
  {
   "cell_type": "markdown",
   "metadata": {},
   "source": [
    " # Tracing Hα Fibrils through Bayesian Deep Learning\n",
    "\n",
    "### Haodi Jiang et al.\n",
    "\n",
    "New Jersey Institute of Technology\n",
    "\n"
   ]
  },
  {
   "cell_type": "markdown",
   "metadata": {},
   "source": [
    "## 1. Introduction"
   ]
  },
  {
   "cell_type": "markdown",
   "metadata": {},
   "source": [
    "We present a new deep-learning method, named FibrilNet, for tracing chromospheric fibrils in Hα images of\n",
    "solar observations. Our method is implemented as a Bayesian convolutional neural network\n",
    "for probabilistic image segmentation with uncertainty quantification using a Monte Carlo (MC) dropout sampling\n",
    "technique. The FibrilNet tool can be applied to diverse data sets including high-resolution Hα images\n",
    "collected by BBSO/GST and Hα images from other solar observatories.\n",
    "\n",
    "In this notebook, we provide an overview of the FibrilNet project,\n",
    "detailing how it can be applied to the Hα images from an active region (AR 12665) collected by BBSO/GST.\n"
   ]
  },
  {
   "cell_type": "markdown",
   "metadata": {},
   "source": [
    "## 2. Workflow of FibrilNet\n",
    "\n",
    "#### 2.1 Data Preparation and Loading\n",
    "\n",
    "The data directory inside the data folder includes all training and test data sets required\n",
    "to run the notebook. The files are loaded and used during the testing and training process."
   ]
  },
  {
   "cell_type": "markdown",
   "metadata": {},
   "source": [
    "#### 2.2 Predicting with Pretrained Model"
   ]
  },
  {
   "cell_type": "markdown",
   "metadata": {},
   "source": [
    "Note that the FiberNet has large model file that can not be saved in public repository. Therefore, it must be downloaded first."
   ]
  },
  {
   "cell_type": "code",
   "execution_count": null,
   "metadata": {},
   "outputs": [],
   "source": [
    "from utils import *\n",
    "download_model()"
   ]
  },
  {
   "cell_type": "markdown",
   "metadata": {},
   "source": [
    "There are default and pretrained models that can be used to predict without running your own trained model."
   ]
  },
  {
   "cell_type": "code",
   "execution_count": null,
   "metadata": {
    "pycharm": {
     "name": "#%%\n"
    }
   },
   "outputs": [],
   "source": [
    "from FibrilNet import *\n",
    "from helper import predict\n",
    "test_data_path = 'data/test/'\n",
    "results_path = 'results/'\n",
    "model = FibrilNet('model/model.hdf5')\n",
    "predict(test_data_path, results_path, model)"
   ]
  },
  {
   "cell_type": "markdown",
   "metadata": {},
   "source": [
    "#### 2.3 FibriNet Training and Testing"
   ]
  },
  {
   "cell_type": "markdown",
   "metadata": {},
   "source": [
    "You may train a new model with your own data, and then predict.<br>\n",
    "Since model training requires GPUs, it is omitted here."
   ]
  },
  {
   "cell_type": "code",
   "execution_count": null,
   "metadata": {
    "pycharm": {
     "name": "#%%\n"
    }
   },
   "outputs": [],
   "source": [
    "from helper import train\n",
    "input_path ='data/'\n",
    "model = train(input_path)\n",
    "test_data_path = 'data/test/'\n",
    "results_path = 'results/'\n",
    "predict(test_data_path, results_path, model)"
   ]
  },
  {
   "cell_type": "markdown",
   "metadata": {},
   "source": [
    "## 3. Conclusion"
   ]
  },
  {
   "cell_type": "markdown",
   "metadata": {},
   "source": [
    "We develop a Bayesian deep-learning method, FibrilNet, for tracing chromospheric fibrils in Hα images of solar observations.\n",
    "The tool performs well on these high-resolution Hα images, predicting fibrils with uncertainty quantification\n",
    "and determining the orientations of the predicted fibrils. We further apply FibrilNet to full-disk Hα images\n",
    "from other solar observatories and additional high-resolution Hα images collected by BBSO/ GST,\n",
    "demonstrating the tool’s usability in diverse data sets"
   ]
  },
  {
   "cell_type": "markdown",
   "metadata": {},
   "source": [
    "## Acknowledgment\n",
    "\n",
    "The authors gratefully acknowledge the use of data from the Goode Solar Telescope (GST) of the Big Bear Solar Observatory (BBSO).\n",
    "The BBSO operation is supported by NJIT and U.S. NSF grant AGS-1821294.\n",
    "This work was supported by U.S. NSF grants AGS-1927578 and AGS-1954737.\n",
    "\n",
    "\n",
    "## Reference\n",
    "\n",
    "##### 1. Tracing Hα Fibrils through Bayesian Deep Learning. Haodi Jiang et al, 2021, ApJS 256 20\n",
    "https://iopscience.iop.org/article/10.3847/1538-4365/ac14b7\n",
    "\n",
    "##### 2. Inferring Line-of-sight Velocities and Doppler Widths from Stokes Profiles of GST/NIRIS Using Stacked Deep Neural Networks. Haodi Jiang et al, 2022, ApJ 939 66\n",
    "\n",
    "https://iopscience.iop.org/article/10.3847/1538-4357/ac927e\n",
    "\n",
    "##### 3. Identifying and Tracking Solar Magnetic Flux Elements with Deep Learning. Haodi Jiang et al, 2020, ApJS 250, 5\n",
    "\n",
    "https://iopscience.iop.org/article/10.3847/1538-4365/aba4aa"
   ]
  }
 ],
 "metadata": {
  "kernelspec": {
   "display_name": "Python 3 (ipykernel)",
   "language": "python",
   "name": "python3"
  },
  "language_info": {
   "codemirror_mode": {
    "name": "ipython",
    "version": 3
   },
   "file_extension": ".py",
   "mimetype": "text/x-python",
   "name": "python",
   "nbconvert_exporter": "python",
   "pygments_lexer": "ipython3",
   "version": "3.9.7"
  },
  "vscode": {
   "interpreter": {
    "hash": "81794d4967e6c3204c66dcd87b604927b115b27c00565d3d43f05ba2f3a2cb0d"
   }
  }
 },
 "nbformat": 4,
 "nbformat_minor": 1
}
